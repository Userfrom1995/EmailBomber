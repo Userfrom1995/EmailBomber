{
 "cells": [
  {
   "cell_type": "code",
   "execution_count": 1,
   "metadata": {},
   "outputs": [],
   "source": [
    "import os\n",
    "# get an api key at https://app.mailslurp.com/sign-up\n",
    "import mailslurp_client\n",
    "from smtplib import SMTP\n",
    "from mailslurp_client import CreateInboxDto"
   ]
  },
  {
   "cell_type": "code",
   "execution_count": null,
   "metadata": {},
   "outputs": [],
   "source": [
    "configuration = mailslurp_client.Configuration()\n",
    "configuration.api_key['x-api-key'] = \"\""
   ]
  },
  {
   "cell_type": "code",
   "execution_count": 11,
   "metadata": {},
   "outputs": [],
   "source": [
    "class Test_MailSlurp_SDK:\n",
    "    \"\"\"\n",
    "    Can send email with SMTP\n",
    "    \"\"\"\n",
    "    def test_can_send_with_smtp(self):\n",
    "        with mailslurp_client.ApiClient(configuration) as api_client:\n",
    "            inbox_controller = mailslurp_client.InboxControllerApi(api_client)\n",
    "            inbox1 = inbox_controller.create_inbox_with_options(CreateInboxDto(inbox_type=\"SMTP_INBOX\"))\n",
    "            inbox2 = inbox_controller.create_inbox()\n",
    "            assert \"@mailslurp.mx\" in inbox1.email_address\n",
    "\n",
    "            # get smtp imap access\n",
    "            smtp_access = inbox_controller.get_imap_smtp_access(inbox_id=inbox1.id)\n",
    "            msg = \"Subject: Test subject\\r\\n\\r\\nThis is the body\"\n",
    "\n",
    "            with SMTP(host=\"mx.mailslurp.com\", port=2525) as smtp:\n",
    "                smtp.login(user=smtp_access.smtp_username, password=smtp_access.smtp_password)\n",
    "                smtp.sendmail(from_addr=inbox1.email_address, to_addrs=inbox2.email_address, msg=msg)\n",
    "                smtp.quit()\n",
    "\n",
    "            wait_for_controller = mailslurp_client.WaitForControllerApi(api_client)\n",
    "            email = wait_for_controller.wait_for_latest_email(inbox_id=inbox2.id)\n",
    "            assert \"Test subject\" in email.subject"
   ]
  },
  {
   "cell_type": "code",
   "execution_count": 9,
   "metadata": {},
   "outputs": [
    {
     "ename": "AssertionError",
     "evalue": "",
     "output_type": "error",
     "traceback": [
      "\u001b[0;31m---------------------------------------------------------------------------\u001b[0m",
      "\u001b[0;31mAssertionError\u001b[0m                            Traceback (most recent call last)",
      "Cell \u001b[0;32mIn[9], line 5\u001b[0m\n\u001b[1;32m      3\u001b[0m inbox1 \u001b[38;5;241m=\u001b[39m inbox_controller\u001b[38;5;241m.\u001b[39mcreate_inbox_with_options(CreateInboxDto(inbox_type\u001b[38;5;241m=\u001b[39m\u001b[38;5;124m\"\u001b[39m\u001b[38;5;124mSMTP_INBOX\u001b[39m\u001b[38;5;124m\"\u001b[39m))\n\u001b[1;32m      4\u001b[0m inbox2 \u001b[38;5;241m=\u001b[39m inbox_controller\u001b[38;5;241m.\u001b[39mcreate_inbox()\n\u001b[0;32m----> 5\u001b[0m \u001b[38;5;28;01massert\u001b[39;00m \u001b[38;5;124m\"\u001b[39m\u001b[38;5;124m@mailslurp.mx\u001b[39m\u001b[38;5;124m\"\u001b[39m \u001b[38;5;129;01min\u001b[39;00m inbox1\u001b[38;5;241m.\u001b[39memail_address\n\u001b[1;32m      7\u001b[0m \u001b[38;5;66;03m# get smtp imap access\u001b[39;00m\n\u001b[1;32m      8\u001b[0m smtp_access \u001b[38;5;241m=\u001b[39m inbox_controller\u001b[38;5;241m.\u001b[39mget_imap_smtp_access(inbox_id\u001b[38;5;241m=\u001b[39minbox1\u001b[38;5;241m.\u001b[39mid)\n",
      "\u001b[0;31mAssertionError\u001b[0m: "
     ]
    }
   ],
   "source": [
    "with mailslurp_client.ApiClient(configuration) as api_client:\n",
    "            inbox_controller = mailslurp_client.InboxControllerApi(api_client)\n",
    "            inbox1 = inbox_controller.create_inbox_with_options(CreateInboxDto(inbox_type=\"SMTP_INBOX\"))\n",
    "            inbox2 = inbox_controller.create_inbox()\n",
    "            assert \"@mailslurp.mx\" in inbox1.email_address\n",
    "\n",
    "            # get smtp imap access\n",
    "            smtp_access = inbox_controller.get_imap_smtp_access(inbox_id=inbox1.id)\n",
    "            msg = \"Subject: Test subject\\r\\n\\r\\nThis is the body\"\n",
    "\n",
    "print(smtp_access.smtp_server_host)"
   ]
  },
  {
   "cell_type": "code",
   "execution_count": 14,
   "metadata": {},
   "outputs": [],
   "source": [
    "def test_can_send_with_smtp(self):\n",
    "    with mailslurp_client.ApiClient(configuration) as api_client:\n",
    "        inbox_controller = mailslurp_client.InboxControllerApi(api_client)\n",
    "        inbox1 = inbox_controller.create_inbox_with_options(\n",
    "            mailslurp_client.CreateInboxDto(inbox_type=\"SMTP_INBOX\")\n",
    "        )\n",
    "        inbox2 = inbox_controller.create_inbox()\n",
    "        \n",
    "        assert \"@mailslurp.mx\" in inbox1.email_address\n",
    "        \n",
    "        smtp_access = inbox_controller.get_imap_smtp_access(inbox_id=inbox1.id)\n",
    "        msg = \"Subject: Test subject\\r\\n\\r\\nThis is the body\"\n",
    "        \n",
    "        with SMTP(host=mx.mailslurp.com, port=2525) as smtp:\n",
    "            smtp.starttls()  # Ensure STARTTLS is used if required by the server\n",
    "            smtp.login(user=smtp_access.smtp_username, password=smtp_access.smtp_password)\n",
    "            smtp.sendmail(\n",
    "                from_addr=inbox1.email_address,\n",
    "                to_addrs=[inbox2.email_address],  # Send to MailSlurp inbox for easier retrieval\n",
    "                msg=msg\n",
    "            )\n",
    "        \n",
    "        wait_for_controller = mailslurp_client.WaitForControllerApi(api_client)\n",
    "        email = wait_for_controller.wait_for_latest_email(\n",
    "            inbox_id=inbox2.id, timeout=30_000  # Increase timeout if needed\n",
    "        )\n",
    "        assert \"Test subject\" in email.subject\n"
   ]
  },
  {
   "cell_type": "code",
   "execution_count": 15,
   "metadata": {},
   "outputs": [],
   "source": [
    "from mailslurp_client import CreateInboxDto, WaitForControllerApi\n",
    "from smtplib import SMTP\n",
    "import mailslurp_client\n",
    "\n",
    "configuration = mailslurp_client.Configuration()\n",
    "configuration.api_key['x-api-key'] = \"YOUR_API_KEY\"  # Replace with your API key\n",
    "\n",
    "class Test_MailSlurp_SDK:\n",
    "    \"\"\"\n",
    "    Can send email with SMTP and validate via MailSlurp\n",
    "    \"\"\"\n",
    "    def test_can_send_with_smtp(self):\n",
    "        with mailslurp_client.ApiClient(configuration) as api_client:\n",
    "            inbox_controller = mailslurp_client.InboxControllerApi(api_client)\n",
    "\n",
    "            # Create SMTP-enabled inbox\n",
    "            inbox1 = inbox_controller.create_inbox_with_options(CreateInboxDto(inbox_type=\"SMTP_INBOX\"))\n",
    "            inbox2 = inbox_controller.create_inbox()  # Regular inbox for receiving\n",
    "            \n",
    "            assert \"@mailslurp.mx\" in inbox1.email_address\n",
    "\n",
    "            # Get SMTP credentials\n",
    "            smtp_access = inbox_controller.get_imap_smtp_access(inbox_id=inbox1.id)\n",
    "            \n",
    "            msg = \"Subject: Test subject\\r\\n\\r\\nThis is the body\"\n",
    "            \n",
    "            # Use dynamic SMTP credentials from MailSlurp\n",
    "            with SMTP(host=smtp_access.smtp_server_host, port=smtp_access.smtp_server_port) as smtp:\n",
    "                smtp.starttls()  # Ensures secure connection if the server supports STARTTLS\n",
    "                smtp.login(user=smtp_access.smtp_username, password=smtp_access.smtp_password)\n",
    "                smtp.sendmail(from_addr=inbox1.email_address, to_addrs=[inbox2.email_address], msg=msg)\n",
    "            \n",
    "            # Wait for email arrival\n",
    "            wait_for_controller = WaitForControllerApi(api_client)\n",
    "            email = wait_for_controller.wait_for_latest_email(\n",
    "                inbox_id=inbox2.id, timeout=30000  # Waits up to 30 seconds\n",
    "            )\n",
    "            assert \"Test subject\" in email.subject\n"
   ]
  },
  {
   "cell_type": "code",
   "execution_count": 16,
   "metadata": {},
   "outputs": [],
   "source": [
    "import mailslurp_client"
   ]
  },
  {
   "cell_type": "code",
   "execution_count": null,
   "metadata": {},
   "outputs": [],
   "source": [
    "configuration = mailslurp_client.Configuration()\n",
    "configuration.api_key['x-api-key'] = \"\""
   ]
  },
  {
   "cell_type": "code",
   "execution_count": 19,
   "metadata": {},
   "outputs": [
    {
     "name": "stdout",
     "output_type": "stream",
     "text": [
      "Email Address is f249791f-027a-49dd-a191-519f79766301@mailslurp.biz\n"
     ]
    }
   ],
   "source": [
    "with mailslurp_client.ApiClient(configuration) as api_client:\n",
    "    inbox_controller = mailslurp_client.InboxControllerApi(api_client)\n",
    "    options = mailslurp_client.CreateInboxDto()\n",
    "    options.name = \"My test box\"\n",
    "    options.inbox_type=\"SMTP_INBOX\"\n",
    "    inbox = inbox_controller.create_inbox_with_options(options)\n",
    "    print(\"Email Address is \" + inbox.email_address)"
   ]
  },
  {
   "cell_type": "code",
   "execution_count": 26,
   "metadata": {},
   "outputs": [
    {
     "name": "stdout",
     "output_type": "stream",
     "text": [
      "{'imap_mailbox': 'f249791f-027a-49dd-a191-519f79766301@mailslurp.biz',\n",
      " 'imap_password': 'L0DyHDD9zky59pdWgoUs8ra1EtCMiNmK',\n",
      " 'imap_server_host': 'mailslurp.click',\n",
      " 'imap_server_port': 1143,\n",
      " 'imap_username': 'f249791f-027a-49dd-a191-519f79766301@mailslurp.biz',\n",
      " 'mail_from_domain': 'mailslurp.biz',\n",
      " 'secure_imap_password': 'L0DyHDD9zky59pdWgoUs8ra1EtCMiNmK',\n",
      " 'secure_imap_server_host': 'mailslurpimap.click',\n",
      " 'secure_imap_server_port': 8993,\n",
      " 'secure_imap_username': 'f249791f-027a-49dd-a191-519f79766301@mailslurp.biz',\n",
      " 'secure_smtp_password': 'rnxqpRStPlaViviEYdivfO55Kq4ed9mY',\n",
      " 'secure_smtp_server_host': 'mailslurp.mx',\n",
      " 'secure_smtp_server_port': 2465,\n",
      " 'secure_smtp_username': 'f249791f-027a-49dd-a191-519f79766301@mailslurp.biz',\n",
      " 'smtp_password': 'rnxqpRStPlaViviEYdivfO55Kq4ed9mY',\n",
      " 'smtp_server_host': 'mxslurp.click',\n",
      " 'smtp_server_port': 2525,\n",
      " 'smtp_username': 'f249791f-027a-49dd-a191-519f79766301@mailslurp.biz'}\n"
     ]
    }
   ],
   "source": [
    "access_details= inbox_controller.get_imap_smtp_access(inbox_id=inbox.id)\n",
    "print(access_details)"
   ]
  },
  {
   "cell_type": "code",
   "execution_count": 21,
   "metadata": {},
   "outputs": [],
   "source": [
    "from smtplib import SMTP"
   ]
  },
  {
   "cell_type": "code",
   "execution_count": 27,
   "metadata": {},
   "outputs": [
    {
     "ename": "KeyboardInterrupt",
     "evalue": "",
     "output_type": "error",
     "traceback": [
      "\u001b[0;31m---------------------------------------------------------------------------\u001b[0m",
      "\u001b[0;31mKeyboardInterrupt\u001b[0m                         Traceback (most recent call last)",
      "Cell \u001b[0;32mIn[27], line 1\u001b[0m\n\u001b[0;32m----> 1\u001b[0m \u001b[38;5;28;01mwith\u001b[39;00m \u001b[43mSMTP\u001b[49m\u001b[43m(\u001b[49m\n\u001b[1;32m      2\u001b[0m \u001b[43m    \u001b[49m\u001b[43mhost\u001b[49m\u001b[43m \u001b[49m\u001b[38;5;241;43m=\u001b[39;49m\u001b[43m \u001b[49m\u001b[43maccess_details\u001b[49m\u001b[38;5;241;43m.\u001b[39;49m\u001b[43msecure_smtp_server_host\u001b[49m\u001b[43m,\u001b[49m\n\u001b[1;32m      3\u001b[0m \u001b[43m    \u001b[49m\u001b[43mport\u001b[49m\u001b[43m \u001b[49m\u001b[38;5;241;43m=\u001b[39;49m\u001b[43m \u001b[49m\u001b[43maccess_details\u001b[49m\u001b[38;5;241;43m.\u001b[39;49m\u001b[43msecure_smtp_server_port\u001b[49m\n\u001b[1;32m      4\u001b[0m \u001b[43m)\u001b[49m \u001b[38;5;28;01mas\u001b[39;00m smtp :\n\u001b[1;32m      5\u001b[0m   msg \u001b[38;5;241m=\u001b[39m \u001b[38;5;124m\"\u001b[39m\u001b[38;5;124mWE LIVE YOUNG , WE LIVE FREE\u001b[39m\u001b[38;5;124m\"\u001b[39m\n\u001b[1;32m      6\u001b[0m   smtp\u001b[38;5;241m.\u001b[39mlogin(user\u001b[38;5;241m=\u001b[39maccess_details\u001b[38;5;241m.\u001b[39msecure_smtp_username,password\u001b[38;5;241m=\u001b[39maccess_details\u001b[38;5;241m.\u001b[39msecure_smtp_password)\n",
      "File \u001b[0;32m~/.pyenv/versions/3.12.6/lib/python3.12/smtplib.py:255\u001b[0m, in \u001b[0;36mSMTP.__init__\u001b[0;34m(self, host, port, local_hostname, timeout, source_address)\u001b[0m\n\u001b[1;32m    252\u001b[0m \u001b[38;5;28mself\u001b[39m\u001b[38;5;241m.\u001b[39m_auth_challenge_count \u001b[38;5;241m=\u001b[39m \u001b[38;5;241m0\u001b[39m\n\u001b[1;32m    254\u001b[0m \u001b[38;5;28;01mif\u001b[39;00m host:\n\u001b[0;32m--> 255\u001b[0m     (code, msg) \u001b[38;5;241m=\u001b[39m \u001b[38;5;28;43mself\u001b[39;49m\u001b[38;5;241;43m.\u001b[39;49m\u001b[43mconnect\u001b[49m\u001b[43m(\u001b[49m\u001b[43mhost\u001b[49m\u001b[43m,\u001b[49m\u001b[43m \u001b[49m\u001b[43mport\u001b[49m\u001b[43m)\u001b[49m\n\u001b[1;32m    256\u001b[0m     \u001b[38;5;28;01mif\u001b[39;00m code \u001b[38;5;241m!=\u001b[39m \u001b[38;5;241m220\u001b[39m:\n\u001b[1;32m    257\u001b[0m         \u001b[38;5;28mself\u001b[39m\u001b[38;5;241m.\u001b[39mclose()\n",
      "File \u001b[0;32m~/.pyenv/versions/3.12.6/lib/python3.12/smtplib.py:343\u001b[0m, in \u001b[0;36mSMTP.connect\u001b[0;34m(self, host, port, source_address)\u001b[0m\n\u001b[1;32m    341\u001b[0m \u001b[38;5;28mself\u001b[39m\u001b[38;5;241m.\u001b[39msock \u001b[38;5;241m=\u001b[39m \u001b[38;5;28mself\u001b[39m\u001b[38;5;241m.\u001b[39m_get_socket(host, port, \u001b[38;5;28mself\u001b[39m\u001b[38;5;241m.\u001b[39mtimeout)\n\u001b[1;32m    342\u001b[0m \u001b[38;5;28mself\u001b[39m\u001b[38;5;241m.\u001b[39mfile \u001b[38;5;241m=\u001b[39m \u001b[38;5;28;01mNone\u001b[39;00m\n\u001b[0;32m--> 343\u001b[0m (code, msg) \u001b[38;5;241m=\u001b[39m \u001b[38;5;28;43mself\u001b[39;49m\u001b[38;5;241;43m.\u001b[39;49m\u001b[43mgetreply\u001b[49m\u001b[43m(\u001b[49m\u001b[43m)\u001b[49m\n\u001b[1;32m    344\u001b[0m \u001b[38;5;28;01mif\u001b[39;00m \u001b[38;5;28mself\u001b[39m\u001b[38;5;241m.\u001b[39mdebuglevel \u001b[38;5;241m>\u001b[39m \u001b[38;5;241m0\u001b[39m:\n\u001b[1;32m    345\u001b[0m     \u001b[38;5;28mself\u001b[39m\u001b[38;5;241m.\u001b[39m_print_debug(\u001b[38;5;124m'\u001b[39m\u001b[38;5;124mconnect:\u001b[39m\u001b[38;5;124m'\u001b[39m, \u001b[38;5;28mrepr\u001b[39m(msg))\n",
      "File \u001b[0;32m~/.pyenv/versions/3.12.6/lib/python3.12/smtplib.py:398\u001b[0m, in \u001b[0;36mSMTP.getreply\u001b[0;34m(self)\u001b[0m\n\u001b[1;32m    396\u001b[0m \u001b[38;5;28;01mwhile\u001b[39;00m \u001b[38;5;241m1\u001b[39m:\n\u001b[1;32m    397\u001b[0m     \u001b[38;5;28;01mtry\u001b[39;00m:\n\u001b[0;32m--> 398\u001b[0m         line \u001b[38;5;241m=\u001b[39m \u001b[38;5;28;43mself\u001b[39;49m\u001b[38;5;241;43m.\u001b[39;49m\u001b[43mfile\u001b[49m\u001b[38;5;241;43m.\u001b[39;49m\u001b[43mreadline\u001b[49m\u001b[43m(\u001b[49m\u001b[43m_MAXLINE\u001b[49m\u001b[43m \u001b[49m\u001b[38;5;241;43m+\u001b[39;49m\u001b[43m \u001b[49m\u001b[38;5;241;43m1\u001b[39;49m\u001b[43m)\u001b[49m\n\u001b[1;32m    399\u001b[0m     \u001b[38;5;28;01mexcept\u001b[39;00m \u001b[38;5;167;01mOSError\u001b[39;00m \u001b[38;5;28;01mas\u001b[39;00m e:\n\u001b[1;32m    400\u001b[0m         \u001b[38;5;28mself\u001b[39m\u001b[38;5;241m.\u001b[39mclose()\n",
      "File \u001b[0;32m~/.pyenv/versions/3.12.6/lib/python3.12/socket.py:720\u001b[0m, in \u001b[0;36mSocketIO.readinto\u001b[0;34m(self, b)\u001b[0m\n\u001b[1;32m    718\u001b[0m \u001b[38;5;28;01mwhile\u001b[39;00m \u001b[38;5;28;01mTrue\u001b[39;00m:\n\u001b[1;32m    719\u001b[0m     \u001b[38;5;28;01mtry\u001b[39;00m:\n\u001b[0;32m--> 720\u001b[0m         \u001b[38;5;28;01mreturn\u001b[39;00m \u001b[38;5;28;43mself\u001b[39;49m\u001b[38;5;241;43m.\u001b[39;49m\u001b[43m_sock\u001b[49m\u001b[38;5;241;43m.\u001b[39;49m\u001b[43mrecv_into\u001b[49m\u001b[43m(\u001b[49m\u001b[43mb\u001b[49m\u001b[43m)\u001b[49m\n\u001b[1;32m    721\u001b[0m     \u001b[38;5;28;01mexcept\u001b[39;00m timeout:\n\u001b[1;32m    722\u001b[0m         \u001b[38;5;28mself\u001b[39m\u001b[38;5;241m.\u001b[39m_timeout_occurred \u001b[38;5;241m=\u001b[39m \u001b[38;5;28;01mTrue\u001b[39;00m\n",
      "\u001b[0;31mKeyboardInterrupt\u001b[0m: "
     ]
    }
   ],
   "source": [
    "with SMTP(\n",
    "    host = access_details.secure_smtp_server_host,\n",
    "    port = access_details.secure_smtp_server_port\n",
    ") as smtp :\n",
    "  msg = \"WE LIVE YOUNG , WE LIVE FREE\"\n",
    "  smtp.login(user=access_details.secure_smtp_username,password=access_details.secure_smtp_password)\n",
    "  smtp.sendmail(msg=msg, to_addrs=[inbox.email_address], from_addr=inbox.email_address)\n",
    "  smtp.quit()\n",
    "\n",
    "print(\"sent the email\") \n"
   ]
  },
  {
   "cell_type": "code",
   "execution_count": null,
   "metadata": {},
   "outputs": [],
   "source": []
  },
  {
   "cell_type": "code",
   "execution_count": null,
   "metadata": {},
   "outputs": [],
   "source": []
  },
  {
   "cell_type": "code",
   "execution_count": null,
   "metadata": {},
   "outputs": [],
   "source": []
  },
  {
   "cell_type": "code",
   "execution_count": null,
   "metadata": {},
   "outputs": [],
   "source": []
  },
  {
   "cell_type": "code",
   "execution_count": null,
   "metadata": {},
   "outputs": [],
   "source": []
  },
  {
   "cell_type": "code",
   "execution_count": null,
   "metadata": {},
   "outputs": [],
   "source": []
  },
  {
   "cell_type": "code",
   "execution_count": null,
   "metadata": {},
   "outputs": [],
   "source": []
  },
  {
   "cell_type": "code",
   "execution_count": null,
   "metadata": {},
   "outputs": [],
   "source": []
  },
  {
   "cell_type": "code",
   "execution_count": null,
   "metadata": {},
   "outputs": [],
   "source": []
  }
 ],
 "metadata": {
  "kernelspec": {
   "display_name": "Python 3",
   "language": "python",
   "name": "python3"
  },
  "language_info": {
   "codemirror_mode": {
    "name": "ipython",
    "version": 3
   },
   "file_extension": ".py",
   "mimetype": "text/x-python",
   "name": "python",
   "nbconvert_exporter": "python",
   "pygments_lexer": "ipython3",
   "version": "3.12.6"
  }
 },
 "nbformat": 4,
 "nbformat_minor": 2
}
